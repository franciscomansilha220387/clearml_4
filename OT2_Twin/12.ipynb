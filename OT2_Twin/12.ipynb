{
 "cells": [
  {
   "cell_type": "code",
   "execution_count": 16,
   "metadata": {},
   "outputs": [],
   "source": [
    "import gymnasium as gym\n",
    "import time\n",
    "import os\n",
    "from ot2_env_wrapper_2 import OT2Env\n",
    "from simple_pid import PID\n",
    "import numpy as np\n"
   ]
  },
  {
   "cell_type": "code",
   "execution_count": 17,
   "metadata": {},
   "outputs": [],
   "source": [
    "# Initialize PID controllers for each axis\n",
    "\n",
    "pid_x = PID(Kp=1.0, Ki=0.1, Kd=0.05)\n",
    "pid_y = PID(Kp=1.0, Ki=0.1, Kd=0.05)\n",
    "pid_z = PID(Kp=1.0, Ki=0.1, Kd=0.05)\n",
    "\n",
    "pid_x.setpoint = 0.1439\n",
    "pid_y.setpoint = - 0.1\n",
    "pid_z.setpoint = 0.1195\n",
    "\n",
    "# Limits for each axis based on the robot's working envelope from task 9\n",
    "a = {'min_x': -0.1871, 'max_x': 0.253, 'min_y': -0.1706, 'max_y': 0.2195, 'min_z': 0.1197, 'max_z': 0.2898}\n",
    "\n",
    "#pid_x.output_limits = (-0.1871, 0.253)\n",
    "#pid_y.output_limits = (-0.1706, 0.2195)\n",
    "#pid_z.output_limits = (0.1197, 0.2898)"
   ]
  },
  {
   "cell_type": "code",
   "execution_count": 18,
   "metadata": {},
   "outputs": [],
   "source": [
    "# instantiate your custom environment\n",
    "wrapped_env = OT2Env(render=True) "
   ]
  },
  {
   "cell_type": "code",
   "execution_count": 19,
   "metadata": {},
   "outputs": [],
   "source": [
    "# Number of iterations for the PID control loop\n",
    "num_iterations = 100000\n",
    "threshold = 0.01  # Threshold for considering the position to be reached"
   ]
  },
  {
   "cell_type": "code",
   "execution_count": 20,
   "metadata": {},
   "outputs": [
    {
     "name": "stdout",
     "output_type": "stream",
     "text": [
      "Target position reached in 196 iterations.\n"
     ]
    }
   ],
   "source": [
    "observation, _ = wrapped_env.reset()\n",
    "\n",
    "for i in range(num_iterations):\n",
    "    # Retrieve the current pipette position from the environment\n",
    "    current_position = observation[:3]  # Assuming the first 3 elements are x, y, z\n",
    "\n",
    "    # Calculate the PID control for each axis\n",
    "    control_x = pid_x(current_position[0])\n",
    "    control_y = pid_y(current_position[1])\n",
    "    control_z = pid_z(current_position[2])\n",
    "\n",
    "    # Construct the action and apply it to the environment\n",
    "    action = np.array([control_x, control_y, control_z])\n",
    "    new_observation, reward, terminated, truncated, _ = wrapped_env.step(action)\n",
    "\n",
    "    # Check if the setpoint is reached within the threshold\n",
    "    new_position = new_observation[:3]\n",
    "    if np.linalg.norm(new_position - np.array([pid_x.setpoint, pid_y.setpoint, pid_z.setpoint])) < threshold:\n",
    "        print(f\"Target position reached in {i+1} iterations.\")\n",
    "        break\n",
    "\n",
    "    # Optionally, you can also check for termination based on 'terminated' or 'truncated'\n",
    "\n",
    "# Close the environment when done\n",
    "wrapped_env.close()"
   ]
  }
 ],
 "metadata": {
  "kernelspec": {
   "display_name": "robotics_block_B_Y2",
   "language": "python",
   "name": "python3"
  },
  "language_info": {
   "codemirror_mode": {
    "name": "ipython",
    "version": 3
   },
   "file_extension": ".py",
   "mimetype": "text/x-python",
   "name": "python",
   "nbconvert_exporter": "python",
   "pygments_lexer": "ipython3",
   "version": "3.9.18"
  }
 },
 "nbformat": 4,
 "nbformat_minor": 2
}
